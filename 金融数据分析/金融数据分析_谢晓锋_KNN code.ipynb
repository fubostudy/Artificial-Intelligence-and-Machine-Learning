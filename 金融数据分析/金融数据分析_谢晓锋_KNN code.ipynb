{
 "cells": [
  {
   "cell_type": "code",
   "execution_count": 2,
   "id": "alive-finish",
   "metadata": {},
   "outputs": [
    {
     "data": {
      "text/html": [
       "<div>\n",
       "<style scoped>\n",
       "    .dataframe tbody tr th:only-of-type {\n",
       "        vertical-align: middle;\n",
       "    }\n",
       "\n",
       "    .dataframe tbody tr th {\n",
       "        vertical-align: top;\n",
       "    }\n",
       "\n",
       "    .dataframe thead th {\n",
       "        text-align: right;\n",
       "    }\n",
       "</style>\n",
       "<table border=\"1\" class=\"dataframe\">\n",
       "  <thead>\n",
       "    <tr style=\"text-align: right;\">\n",
       "      <th></th>\n",
       "      <th>0</th>\n",
       "      <th>1</th>\n",
       "      <th>2</th>\n",
       "      <th>3</th>\n",
       "      <th>4</th>\n",
       "      <th>5</th>\n",
       "      <th>6</th>\n",
       "      <th>7</th>\n",
       "      <th>8</th>\n",
       "      <th>9</th>\n",
       "      <th>10</th>\n",
       "      <th>11</th>\n",
       "      <th>12</th>\n",
       "      <th>13</th>\n",
       "      <th>14</th>\n",
       "      <th>15</th>\n",
       "    </tr>\n",
       "  </thead>\n",
       "  <tbody>\n",
       "    <tr>\n",
       "      <th>0</th>\n",
       "      <td>b</td>\n",
       "      <td>30.83</td>\n",
       "      <td>0.000</td>\n",
       "      <td>u</td>\n",
       "      <td>g</td>\n",
       "      <td>w</td>\n",
       "      <td>v</td>\n",
       "      <td>1.25</td>\n",
       "      <td>t</td>\n",
       "      <td>t</td>\n",
       "      <td>1.0</td>\n",
       "      <td>f</td>\n",
       "      <td>g</td>\n",
       "      <td>202</td>\n",
       "      <td>0.0</td>\n",
       "      <td>+</td>\n",
       "    </tr>\n",
       "    <tr>\n",
       "      <th>1</th>\n",
       "      <td>a</td>\n",
       "      <td>58.67</td>\n",
       "      <td>4.460</td>\n",
       "      <td>u</td>\n",
       "      <td>g</td>\n",
       "      <td>q</td>\n",
       "      <td>h</td>\n",
       "      <td>3.04</td>\n",
       "      <td>t</td>\n",
       "      <td>t</td>\n",
       "      <td>6.0</td>\n",
       "      <td>f</td>\n",
       "      <td>g</td>\n",
       "      <td>43</td>\n",
       "      <td>560.0</td>\n",
       "      <td>+</td>\n",
       "    </tr>\n",
       "    <tr>\n",
       "      <th>2</th>\n",
       "      <td>a</td>\n",
       "      <td>24.5</td>\n",
       "      <td>0.500</td>\n",
       "      <td>u</td>\n",
       "      <td>g</td>\n",
       "      <td>q</td>\n",
       "      <td>h</td>\n",
       "      <td>1.50</td>\n",
       "      <td>t</td>\n",
       "      <td>f</td>\n",
       "      <td>0.0</td>\n",
       "      <td>f</td>\n",
       "      <td>g</td>\n",
       "      <td>280</td>\n",
       "      <td>824.0</td>\n",
       "      <td>+</td>\n",
       "    </tr>\n",
       "    <tr>\n",
       "      <th>3</th>\n",
       "      <td>b</td>\n",
       "      <td>27.83</td>\n",
       "      <td>1.540</td>\n",
       "      <td>u</td>\n",
       "      <td>g</td>\n",
       "      <td>w</td>\n",
       "      <td>v</td>\n",
       "      <td>3.75</td>\n",
       "      <td>t</td>\n",
       "      <td>t</td>\n",
       "      <td>5.0</td>\n",
       "      <td>t</td>\n",
       "      <td>g</td>\n",
       "      <td>100</td>\n",
       "      <td>3.0</td>\n",
       "      <td>+</td>\n",
       "    </tr>\n",
       "    <tr>\n",
       "      <th>4</th>\n",
       "      <td>b</td>\n",
       "      <td>20.17</td>\n",
       "      <td>5.625</td>\n",
       "      <td>u</td>\n",
       "      <td>g</td>\n",
       "      <td>w</td>\n",
       "      <td>v</td>\n",
       "      <td>1.71</td>\n",
       "      <td>t</td>\n",
       "      <td>f</td>\n",
       "      <td>0.0</td>\n",
       "      <td>f</td>\n",
       "      <td>s</td>\n",
       "      <td>120</td>\n",
       "      <td>0.0</td>\n",
       "      <td>+</td>\n",
       "    </tr>\n",
       "  </tbody>\n",
       "</table>\n",
       "</div>"
      ],
      "text/plain": [
       "  0      1      2  3  4  5  6     7  8  9    10 11 12   13     14 15\n",
       "0  b  30.83  0.000  u  g  w  v  1.25  t  t  1.0  f  g  202    0.0  +\n",
       "1  a  58.67  4.460  u  g  q  h  3.04  t  t  6.0  f  g   43  560.0  +\n",
       "2  a   24.5  0.500  u  g  q  h  1.50  t  f  0.0  f  g  280  824.0  +\n",
       "3  b  27.83  1.540  u  g  w  v  3.75  t  t  5.0  t  g  100    3.0  +\n",
       "4  b  20.17  5.625  u  g  w  v  1.71  t  f  0.0  f  s  120    0.0  +"
      ]
     },
     "execution_count": 2,
     "metadata": {},
     "output_type": "execute_result"
    }
   ],
   "source": [
    "import pandas as pd\n",
    "import numpy as np\n",
    "import seaborn as sns\n",
    "import matplotlib.pyplot as plt\n",
    "%matplotlib inline\n",
    "import warnings\n",
    "warnings.filterwarnings(\"ignore\")\n",
    "\n",
    "data = pd.read_csv('T3.Credit Approval.csv', header=None)  # 加载数据集\n",
    "data.head() # 打印数据集\n"
   ]
  },
  {
   "cell_type": "code",
   "execution_count": 3,
   "id": "extensive-permit",
   "metadata": {},
   "outputs": [
    {
     "name": "stdout",
     "output_type": "stream",
     "text": [
      "shape of the data: (695, 16)\n",
      "-----------------------------------------\n",
      "<class 'pandas.core.frame.DataFrame'>\n",
      "RangeIndex: 695 entries, 0 to 694\n",
      "Data columns (total 16 columns):\n",
      " #   Column  Non-Null Count  Dtype  \n",
      "---  ------  --------------  -----  \n",
      " 0   0       693 non-null    object \n",
      " 1   1       690 non-null    object \n",
      " 2   2       690 non-null    float64\n",
      " 3   3       690 non-null    object \n",
      " 4   4       690 non-null    object \n",
      " 5   5       690 non-null    object \n",
      " 6   6       690 non-null    object \n",
      " 7   7       690 non-null    float64\n",
      " 8   8       690 non-null    object \n",
      " 9   9       690 non-null    object \n",
      " 10  10      690 non-null    float64\n",
      " 11  11      690 non-null    object \n",
      " 12  12      690 non-null    object \n",
      " 13  13      690 non-null    object \n",
      " 14  14      690 non-null    float64\n",
      " 15  15      690 non-null    object \n",
      "dtypes: float64(4), object(12)\n",
      "memory usage: 87.0+ KB\n",
      "None\n"
     ]
    }
   ],
   "source": [
    "print(\"shape of the data:\", data.shape)\n",
    "print(\"-----------------------------------------\")\n",
    "print(data.info())"
   ]
  },
  {
   "cell_type": "code",
   "execution_count": 4,
   "id": "rational-mention",
   "metadata": {},
   "outputs": [],
   "source": [
    "#这里因为Age是object，所以转换后数据不准确了，所以需要在最开始的时候就将age进行转化为num\n",
    "#但在使用语句data[1] = pd.to_numeric(data[1])因为存在？的数据而报错，所以把？替换为Nan的语句放到前面\n",
    "data.replace('?', np.NaN, inplace = True) \n",
    "data[1] = pd.to_numeric(data[1])\n",
    "\n",
    "data2 = data.copy()"
   ]
  },
  {
   "cell_type": "code",
   "execution_count": 5,
   "id": "actual-hunter",
   "metadata": {},
   "outputs": [
    {
     "name": "stdout",
     "output_type": "stream",
     "text": [
      "               1           2           7          10             14\n",
      "count  678.000000  690.000000  690.000000  690.00000     690.000000\n",
      "mean    31.568171    4.758725    2.223406    2.40000    1017.385507\n",
      "std     11.957862    4.978163    3.346513    4.86294    5210.102598\n",
      "min     13.750000    0.000000    0.000000    0.00000       0.000000\n",
      "25%     22.602500    1.000000    0.165000    0.00000       0.000000\n",
      "50%     28.460000    2.750000    1.000000    0.00000       5.000000\n",
      "75%     38.230000    7.207500    2.625000    3.00000     395.500000\n",
      "max     80.250000   28.000000   28.500000   67.00000  100000.000000\n"
     ]
    }
   ],
   "source": [
    "data_description = data.describe()  #数据的统计量信息\n",
    "print(data_description)\n",
    "\n",
    "#首先，我们将使用describe() 函数查看连续型数值的描述性统计信息，例如最小值、最大值、平均值和标准差\n",
    "#显示列2、7、10、14分别代表Debt(债务)、YearsEmployed(工作年限)、CreditScore(信用评分)、Income(收入)"
   ]
  },
  {
   "cell_type": "code",
   "execution_count": 6,
   "id": "provincial-factor",
   "metadata": {},
   "outputs": [
    {
     "data": {
      "image/png": "[encoded data removed]",
      "text/plain": [
       "<Figure size 432x288 with 1 Axes>"
      ]
     },
     "metadata": {
      "needs_background": "light"
     },
     "output_type": "display_data"
    },
    {
     "data": {
      "image/png": "[encoded data removed]",
      "text/plain": [
       "<Figure size 432x288 with 1 Axes>"
      ]
     },
     "metadata": {
      "needs_background": "light"
     },
     "output_type": "display_data"
    },
    {
     "data": {
      "image/png": "[encoded data removed]",
      "text/plain": [
       "<Figure size 432x288 with 1 Axes>"
      ]
     },
     "metadata": {
      "needs_background": "light"
     },
     "output_type": "display_data"
    },
    {
     "data": {
      "image/png": "[encoded data removed]",
      "text/plain": [
       "<Figure size 432x288 with 1 Axes>"
      ]
     },
     "metadata": {
      "needs_background": "light"
     },
     "output_type": "display_data"
    },
    {
     "data": {
      "image/png": "[encoded data removed]",
      "text/plain": [
       "<Figure size 432x288 with 1 Axes>"
      ]
     },
     "metadata": {
      "needs_background": "light"
     },
     "output_type": "display_data"
    }
   ],
   "source": [
    "#灵活绘制观察的单变量分布 \n",
    "def plotDistPlot(col):\n",
    "    sns.distplot(col)\n",
    "    plt.show()\n",
    "plotDistPlot(data[1]) #Age(年龄)\n",
    "plotDistPlot(data[2]) #Debt(债务)\n",
    "plotDistPlot(data[7]) #YearsEmployed(工作年限)\n",
    "plotDistPlot(data[10]) #CreditScore(信用评分)\n",
    "plotDistPlot(data[14]) #Income(收入)"
   ]
  },
  {
   "cell_type": "code",
   "execution_count": 7,
   "id": "manufactured-roads",
   "metadata": {},
   "outputs": [
    {
     "data": {
      "image/png": "[encoded data removed]",
      "text/plain": [
       "<Figure size 864x648 with 2 Axes>"
      ]
     },
     "metadata": {
      "needs_background": "light"
     },
     "output_type": "display_data"
    }
   ],
   "source": [
    "#协方差矩阵\n",
    "corrmat = data.corr()\n",
    "f, ax = plt.subplots(figsize=(12, 9))\n",
    "sns.heatmap(corrmat, vmax=.8, square=True);"
   ]
  },
  {
   "cell_type": "code",
   "execution_count": 8,
   "id": "level-myanmar",
   "metadata": {},
   "outputs": [
    {
     "data": {
      "image/png": "[encoded data removed]",
      "text/plain": [
       "<Figure size 720x720 with 20 Axes>"
      ]
     },
     "metadata": {},
     "output_type": "display_data"
    }
   ],
   "source": [
    "#散点图\n",
    "sns.set()\n",
    "cols = [2,7,10,14]\n",
    "sns.pairplot(data[cols], size = 2.5)\n",
    "plt.show();"
   ]
  },
  {
   "cell_type": "code",
   "execution_count": 9,
   "id": "appointed-being",
   "metadata": {},
   "outputs": [
    {
     "data": {
      "text/plain": [
       "<AxesSubplot:xlabel='15', ylabel='count'>"
      ]
     },
     "execution_count": 9,
     "metadata": {},
     "output_type": "execute_result"
    },
    {
     "data": {
      "image/png": "[encoded data removed]",
      "text/plain": [
       "<Figure size 432x288 with 1 Axes>"
      ]
     },
     "metadata": {},
     "output_type": "display_data"
    }
   ],
   "source": [
    "#查看结果的比例\n",
    "sns.countplot(data = data, x = 15)"
   ]
  },
  {
   "cell_type": "code",
   "execution_count": 10,
   "id": "metallic-newton",
   "metadata": {},
   "outputs": [
    {
     "name": "stdout",
     "output_type": "stream",
     "text": [
      "      0      1       2  3  4   5   6      7  8  9     10 11 12   13     14 15\n",
      "678  NaN  29.50   2.000  y  p   e   h  2.000  f  f   0.0  f  g  256   17.0  -\n",
      "679    a  37.33   2.500  u  g   i   h  0.210  f  f   0.0  f  g  260  246.0  -\n",
      "680    a  41.58   1.040  u  g  aa   v  0.665  f  f   0.0  f  g  240  237.0  -\n",
      "681    a  30.58  10.665  u  g   q   h  0.085  f  t  12.0  t  g  129    3.0  -\n",
      "682    b  19.42   7.250  u  g   m   v  0.040  f  t   1.0  f  g  100    1.0  -\n",
      "683    a  17.92  10.210  u  g  ff  ff  0.000  f  f   0.0  f  g    0   50.0  -\n",
      "684    a  20.08   1.250  u  g   c   v  0.000  f  f   0.0  f  g    0    0.0  -\n",
      "685    b  19.50   0.290  u  g   k   v  0.290  f  f   0.0  f  g  280  364.0  -\n",
      "686    b  27.83   1.000  y  p   d   h  3.000  f  f   0.0  f  g  176  537.0  -\n",
      "687    b  17.08   3.290  u  g   i   v  0.335  f  f   0.0  t  g  140    2.0  -\n",
      "688    b  36.42   0.750  y  p   d   v  0.585  f  f   0.0  f  g  240    3.0  -\n",
      "689    b  40.58   3.290  u  g   m   v  3.500  f  f   0.0  t  s  400    0.0  -\n",
      "690    b  21.08  10.085  y  p   e   h  1.250  f  f   0.0  f  g  260    0.0  -\n",
      "691    a  22.67   0.750  u  g   c   v  2.000  f  t   2.0  t  g  200  394.0  -\n",
      "692    a  25.25  13.500  y  p  ff  ff  2.000  f  t   1.0  t  g  200    1.0  -\n",
      "693    b  17.92   0.205  u  g  aa   v  0.040  f  f   0.0  f  g  280  750.0  -\n",
      "694    b  35.00   3.375  u  g   c   h  8.290  f  f   0.0  t  g    0    0.0  -\n",
      "----------------------------------------------------\n",
      "      0      1       2  3  4   5   6      7  8  9     10 11 12   13     14 15\n",
      "678  NaN  29.50   2.000  y  p   e   h  2.000  f  f   0.0  f  g  256   17.0  -\n",
      "679    a  37.33   2.500  u  g   i   h  0.210  f  f   0.0  f  g  260  246.0  -\n",
      "680    a  41.58   1.040  u  g  aa   v  0.665  f  f   0.0  f  g  240  237.0  -\n",
      "681    a  30.58  10.665  u  g   q   h  0.085  f  t  12.0  t  g  129    3.0  -\n",
      "682    b  19.42   7.250  u  g   m   v  0.040  f  t   1.0  f  g  100    1.0  -\n",
      "683    a  17.92  10.210  u  g  ff  ff  0.000  f  f   0.0  f  g    0   50.0  -\n",
      "684    a  20.08   1.250  u  g   c   v  0.000  f  f   0.0  f  g    0    0.0  -\n",
      "685    b  19.50   0.290  u  g   k   v  0.290  f  f   0.0  f  g  280  364.0  -\n",
      "686    b  27.83   1.000  y  p   d   h  3.000  f  f   0.0  f  g  176  537.0  -\n",
      "687    b  17.08   3.290  u  g   i   v  0.335  f  f   0.0  t  g  140    2.0  -\n",
      "688    b  36.42   0.750  y  p   d   v  0.585  f  f   0.0  f  g  240    3.0  -\n",
      "689    b  40.58   3.290  u  g   m   v  3.500  f  f   0.0  t  s  400    0.0  -\n",
      "690    b  21.08  10.085  y  p   e   h  1.250  f  f   0.0  f  g  260    0.0  -\n",
      "691    a  22.67   0.750  u  g   c   v  2.000  f  t   2.0  t  g  200  394.0  -\n",
      "692    a  25.25  13.500  y  p  ff  ff  2.000  f  t   1.0  t  g  200    1.0  -\n",
      "693    b  17.92   0.205  u  g  aa   v  0.040  f  f   0.0  f  g  280  750.0  -\n",
      "694    b  35.00   3.375  u  g   c   h  8.290  f  f   0.0  t  g    0    0.0  -\n"
     ]
    }
   ],
   "source": [
    "print(data.tail(17)) #查看缺失值是怎么样的，可以看到缺失值被标记为‘？’\n",
    "print(\"----------------------------------------------------\")\n",
    "data = data.replace('?', np.nan) # 用NaN替换‘？’\n",
    "print(data.tail(17)) #再一次查看处理后的缺失值\n",
    "\n",
    "#我们可以从摘要输出中看到，0列Male变量有缺失值，为‘？’，我们可以简单地使用所有现有值的平均值来完成。另一种方法是检查数值之间的关系并使用线性回归来填充它们。"
   ]
  },
  {
   "cell_type": "code",
   "execution_count": 11,
   "id": "following-groove",
   "metadata": {},
   "outputs": [
    {
     "name": "stdout",
     "output_type": "stream",
     "text": [
      "107\n",
      "    0      1       2  3  4   5   6      7  8  9     10 11 12   13     14 15\n",
      "680  a  41.58   1.040  u  g  aa   v  0.665  f  f   0.0  f  g  240  237.0  -\n",
      "681  a  30.58  10.665  u  g   q   h  0.085  f  t  12.0  t  g  129    3.0  -\n",
      "682  b  19.42   7.250  u  g   m   v  0.040  f  t   1.0  f  g  100    1.0  -\n",
      "683  a  17.92  10.210  u  g  ff  ff  0.000  f  f   0.0  f  g    0   50.0  -\n",
      "684  a  20.08   1.250  u  g   c   v  0.000  f  f   0.0  f  g    0    0.0  -\n",
      "685  b  19.50   0.290  u  g   k   v  0.290  f  f   0.0  f  g  280  364.0  -\n",
      "686  b  27.83   1.000  y  p   d   h  3.000  f  f   0.0  f  g  176  537.0  -\n",
      "687  b  17.08   3.290  u  g   i   v  0.335  f  f   0.0  t  g  140    2.0  -\n",
      "688  b  36.42   0.750  y  p   d   v  0.585  f  f   0.0  f  g  240    3.0  -\n",
      "689  b  40.58   3.290  u  g   m   v  3.500  f  f   0.0  t  s  400    0.0  -\n",
      "690  b  21.08  10.085  y  p   e   h  1.250  f  f   0.0  f  g  260    0.0  -\n",
      "691  a  22.67   0.750  u  g   c   v  2.000  f  t   2.0  t  g  200  394.0  -\n",
      "692  a  25.25  13.500  y  p  ff  ff  2.000  f  t   1.0  t  g  200    1.0  -\n",
      "693  b  17.92   0.205  u  g  aa   v  0.040  f  f   0.0  f  g  280  750.0  -\n",
      "694  b  35.00   3.375  u  g   c   h  8.290  f  f   0.0  t  g    0    0.0  -\n"
     ]
    }
   ],
   "source": [
    "data.fillna(data.mean(), inplace=True) # 用均值插补来插补缺失值\n",
    "print(data.isnull().values.sum())# 统计数据集中NaN的个数进行验证\n",
    "print(data.tail(15))"
   ]
  },
  {
   "cell_type": "code",
   "execution_count": 12,
   "id": "personal-samoa",
   "metadata": {},
   "outputs": [
    {
     "name": "stdout",
     "output_type": "stream",
     "text": [
      "0\n",
      "    0      1       2  3  4   5   6      7  8  9     10 11 12   13     14 15\n",
      "680  a  41.58   1.040  u  g  aa   v  0.665  f  f   0.0  f  g  240  237.0  -\n",
      "681  a  30.58  10.665  u  g   q   h  0.085  f  t  12.0  t  g  129    3.0  -\n",
      "682  b  19.42   7.250  u  g   m   v  0.040  f  t   1.0  f  g  100    1.0  -\n",
      "683  a  17.92  10.210  u  g  ff  ff  0.000  f  f   0.0  f  g    0   50.0  -\n",
      "684  a  20.08   1.250  u  g   c   v  0.000  f  f   0.0  f  g    0    0.0  -\n",
      "685  b  19.50   0.290  u  g   k   v  0.290  f  f   0.0  f  g  280  364.0  -\n",
      "686  b  27.83   1.000  y  p   d   h  3.000  f  f   0.0  f  g  176  537.0  -\n",
      "687  b  17.08   3.290  u  g   i   v  0.335  f  f   0.0  t  g  140    2.0  -\n",
      "688  b  36.42   0.750  y  p   d   v  0.585  f  f   0.0  f  g  240    3.0  -\n",
      "689  b  40.58   3.290  u  g   m   v  3.500  f  f   0.0  t  s  400    0.0  -\n",
      "690  b  21.08  10.085  y  p   e   h  1.250  f  f   0.0  f  g  260    0.0  -\n",
      "691  a  22.67   0.750  u  g   c   v  2.000  f  t   2.0  t  g  200  394.0  -\n",
      "692  a  25.25  13.500  y  p  ff  ff  2.000  f  t   1.0  t  g  200    1.0  -\n",
      "693  b  17.92   0.205  u  g  aa   v  0.040  f  f   0.0  f  g  280  750.0  -\n",
      "694  b  35.00   3.375  u  g   c   h  8.290  f  f   0.0  t  g    0    0.0  -\n"
     ]
    }
   ],
   "source": [
    "for col in data.columns: #遍历data的每一列\n",
    "    if data[col].dtypes == 'object': # 检查列是否为对象类型\n",
    "        data= data.fillna(data[col].value_counts().index[0]) # 用频次最高的值进行插补\n",
    "\n",
    "print(data.isnull().values.sum())#计算数据集中的 NaN 数量并打印进行验证\n",
    "print(data.tail(15))"
   ]
  },
  {
   "cell_type": "code",
   "execution_count": 13,
   "id": "respiratory-diamond",
   "metadata": {},
   "outputs": [
    {
     "name": "stdout",
     "output_type": "stream",
     "text": [
      "<class 'pandas.core.frame.DataFrame'>\n"
     ]
    }
   ],
   "source": [
    "from sklearn.preprocessing import LabelEncoder #导入标签编码器\n",
    "le = LabelEncoder() # 实例化\n",
    "\n",
    "for col in data: # 迭代每列的所有值并提取它们的数据类型\n",
    "    if data[col].dtype=='object': # 判断数据类型是否为对象类型\n",
    "        data[col]=le.fit_transform(data[col]) #使用LabelEncoder做数值变换\n",
    "data.tail(15)\n",
    "\n",
    "#这里因为Age是object，所以转换后数据不准确了，所以需要在最开始的时候就将age进行转化为num\n",
    "#但在使用语句data[1] = pd.to_numeric(data[1jiu ])因为存在？的数据而报错，所以把？替换为Nan的语句放到前面\n",
    "print(type(data))"
   ]
  },
  {
   "cell_type": "code",
   "execution_count": 16,
   "id": "hourly-silver",
   "metadata": {},
   "outputs": [],
   "source": [
    "from sklearn.model_selection import train_test_split \n",
    "#去掉特征 11 和 13 并将 DataFrame 转换为 NumPy 数组\n",
    "data = data.drop([11, 13], axis=1)  \n",
    "data = data.values\n",
    "#将特征和标签分离到单独的变量中\n",
    "X,y = data[:,0:13] , data[:,13] \n",
    "# 分成训练集和测试集\n",
    "X_train, X_test, y_train, y_test = train_test_split(X,y,test_size=0.33, random_state=42)\n"
   ]
  },
  {
   "cell_type": "code",
   "execution_count": 45,
   "id": "gross-geneva",
   "metadata": {},
   "outputs": [
    {
     "data": {
      "text/plain": [
       "'\\nfrom __future__ import division\\nfrom sklearn.preprocessing import MinMaxScaler, StandardScaler\\n\\nclass PCApercent(object):\\n    def __init__(self, X, percentage):\\n        self.X = X\\n        self.percentage = percentage\\n        self.variance_ratio = []\\n        self.low_dataMat = []\\n\\n    \\n    def percent2n(self, eigVal): # 通过方差百分比选取前n个主成分\\n        sortVal = np.sort(eigVal)[-1::-1]\\n        percentSum, componentNum = 0, 0\\n        for i in sortVal:\\n            percentSum += i\\n            componentNum += 1\\n            if percentSum >= sum(sortVal) * self.percentage:\\n                break\\n        return componentNum\\n\\n    def _fit(self): \\n        X_mean = np.mean(self.X, axis=0)\\n        dataMat = self.X - X_mean\\n        covMat = np.cov(dataMat, rowvar=False)\\n\\n        eigVal, eigVect = np.linalg.eig(np.mat(covMat))\\n        minMax = MinMaxScaler()\\n        eigVect = minMax.fit_transform(eigVect)\\n\\n        n = self.percent2n(eigVal)\\n        eigValInd = np.argsort(eigVal)\\n        eigValInd = eigValInd[-1:-(n + 1):-1]\\n        n_eigVect = eigVect[:, eigValInd]\\n        self.low_dataMat = dataMat * n_eigVect\\n        [self.variance_ratio.append(eigVect[i] / sum(eigVal)) for i in eigValInd]\\n        return self.low_dataMat\\n        \\n        \\n    def fit(self): \\n        self._fit()\\n        return self\\n    \\n    def show(self): #画碎石图 \\n        X_mean = np.mean(self.X, axis=0)\\n        dataMat = self.X - X_mean\\n        covMat = np.cov(dataMat, rowvar=False)\\n        eigVal, eigVect = np.linalg.eig(np.mat(covMat))\\n        \\n        id = np.linspace(1, dataMat.shape[1], dataMat.shape[1])\\n        explained_ratio = []\\n        acc_explained_ratio = []\\n        for i in np.argsort(-eigVal):\\n            explained_ratio.append(eigVal[i] / sum(eigVal))\\n            acc_explained_ratio.append(sum(eigVal[:i+1])/sum(eigVal))                          \\n        plt.plot(id, explained_ratio, \\'c.-\\', label=\\'explained_ratio\\')\\n        plt.plot(id, acc_explained_ratio, label=\\'acc_explained_ratio\\')\\n        plt.legend()\\n        plt.yticks(np.arange(0, 1.1, 0.1))\\n        plt.grid()\\n        return plt.show\\n\\n\\n#打印原始数据集\\ndata = np.mat(pd.DataFrame(X))\\nprint(\"Original dataset = {}*{}\".format(data.shape[0], data.shape[1]))\\n#进行PCA降维\\npca = PCApercent(data,0.999999) #方差解释率要求为99.9999%\\npca.fit() \\nX = pca.low_dataMat #将得到降维后的数据还是存储到X\\nprint(X.shape)\\n#方差解释率碎石图可视化\\npca.show()\\n\\n\\n'"
      ]
     },
     "execution_count": 45,
     "metadata": {},
     "output_type": "execute_result"
    }
   ],
   "source": [
    "#PCA降维代码\n",
    "'''\n",
    "from __future__ import division\n",
    "from sklearn.preprocessing import MinMaxScaler, StandardScaler\n",
    "\n",
    "class PCApercent(object):\n",
    "    def __init__(self, X, percentage):\n",
    "        self.X = X\n",
    "        self.percentage = percentage\n",
    "        self.variance_ratio = []\n",
    "        self.low_dataMat = []\n",
    "\n",
    "    \n",
    "    def percent2n(self, eigVal): # 通过方差百分比选取前n个主成分\n",
    "        sortVal = np.sort(eigVal)[-1::-1]\n",
    "        percentSum, componentNum = 0, 0\n",
    "        for i in sortVal:\n",
    "            percentSum += i\n",
    "            componentNum += 1\n",
    "            if percentSum >= sum(sortVal) * self.percentage:\n",
    "                break\n",
    "        return componentNum\n",
    "\n",
    "    def _fit(self): \n",
    "        X_mean = np.mean(self.X, axis=0)\n",
    "        dataMat = self.X - X_mean\n",
    "        covMat = np.cov(dataMat, rowvar=False)\n",
    "\n",
    "        eigVal, eigVect = np.linalg.eig(np.mat(covMat))\n",
    "        minMax = MinMaxScaler()\n",
    "        eigVect = minMax.fit_transform(eigVect)\n",
    "\n",
    "        n = self.percent2n(eigVal)\n",
    "        eigValInd = np.argsort(eigVal)\n",
    "        eigValInd = eigValInd[-1:-(n + 1):-1]\n",
    "        n_eigVect = eigVect[:, eigValInd]\n",
    "        self.low_dataMat = dataMat * n_eigVect\n",
    "        [self.variance_ratio.append(eigVect[i] / sum(eigVal)) for i in eigValInd]\n",
    "        return self.low_dataMat\n",
    "        \n",
    "        \n",
    "    def fit(self): \n",
    "        self._fit()\n",
    "        return self\n",
    "    \n",
    "    def show(self): #画碎石图 \n",
    "        X_mean = np.mean(self.X, axis=0)\n",
    "        dataMat = self.X - X_mean\n",
    "        covMat = np.cov(dataMat, rowvar=False)\n",
    "        eigVal, eigVect = np.linalg.eig(np.mat(covMat))\n",
    "        \n",
    "        id = np.linspace(1, dataMat.shape[1], dataMat.shape[1])\n",
    "        explained_ratio = []\n",
    "        acc_explained_ratio = []\n",
    "        for i in np.argsort(-eigVal):\n",
    "            explained_ratio.append(eigVal[i] / sum(eigVal))\n",
    "            acc_explained_ratio.append(sum(eigVal[:i+1])/sum(eigVal))                          \n",
    "        plt.plot(id, explained_ratio, 'c.-', label='explained_ratio')\n",
    "        plt.plot(id, acc_explained_ratio, label='acc_explained_ratio')\n",
    "        plt.legend()\n",
    "        plt.yticks(np.arange(0, 1.1, 0.1))\n",
    "        plt.grid()\n",
    "        return plt.show\n",
    "\n",
    "\n",
    "#打印原始数据集\n",
    "data = np.mat(pd.DataFrame(X))\n",
    "print(\"Original dataset = {}*{}\".format(data.shape[0], data.shape[1]))\n",
    "#进行PCA降维\n",
    "pca = PCApercent(data,0.999999) #方差解释率要求为99.9999%\n",
    "pca.fit() \n",
    "X = pca.low_dataMat #将得到降维后的数据还是存储到X\n",
    "print(X.shape)\n",
    "#方差解释率碎石图可视化\n",
    "pca.show()\n",
    "\n",
    "\n",
    "'''"
   ]
  },
  {
   "cell_type": "code",
   "execution_count": 17,
   "id": "addressed-strategy",
   "metadata": {},
   "outputs": [
    {
     "name": "stdout",
     "output_type": "stream",
     "text": [
      "[[2.000e+00 3.083e+01 0.000e+00 ... 1.000e+00 0.000e+00 0.000e+00]\n",
      " [1.000e+00 5.867e+01 4.460e+00 ... 1.000e+00 5.600e+02 0.000e+00]\n",
      " [1.000e+00 2.450e+01 5.000e-01 ... 1.000e+00 8.240e+02 0.000e+00]\n",
      " ...\n",
      " [1.000e+00 2.525e+01 1.350e+01 ... 1.000e+00 1.000e+00 1.000e+00]\n",
      " [2.000e+00 1.792e+01 2.050e-01 ... 1.000e+00 7.500e+02 1.000e+00]\n",
      " [2.000e+00 3.500e+01 3.375e+00 ... 1.000e+00 0.000e+00 1.000e+00]]\n",
      "(695, 14)\n",
      "<class 'numpy.ndarray'>\n"
     ]
    }
   ],
   "source": [
    "print(data)\n",
    "print(data.shape)\n",
    "print(type(data))"
   ]
  },
  {
   "cell_type": "code",
   "execution_count": 18,
   "id": "billion-spending",
   "metadata": {},
   "outputs": [
    {
     "name": "stdout",
     "output_type": "stream",
     "text": [
      "训练样本 465 (465, 13)\n",
      "测试样本 230 (230, 13)\n",
      "训练样本 465 (465,)\n",
      "测试样本 230 (230,)\n",
      "总 695\n"
     ]
    }
   ],
   "source": [
    "\n",
    "print('训练样本',len(X_train),X_train.shape)\n",
    "print('测试样本',len(X_test),X_test.shape)\n",
    "print('训练样本',len(y_train),y_train.shape)\n",
    "print('测试样本',len(y_test),y_test.shape)\n",
    "print('总',len(X_train)+len(X_test))\n"
   ]
  },
  {
   "cell_type": "code",
   "execution_count": 19,
   "id": "obvious-headquarters",
   "metadata": {},
   "outputs": [
    {
     "name": "stdout",
     "output_type": "stream",
     "text": [
      "[[2.000e+00 3.083e+01 0.000e+00 ... 1.000e+00 0.000e+00 0.000e+00]\n",
      " [1.000e+00 5.867e+01 4.460e+00 ... 1.000e+00 5.600e+02 0.000e+00]\n",
      " [1.000e+00 2.450e+01 5.000e-01 ... 1.000e+00 8.240e+02 0.000e+00]\n",
      " ...\n",
      " [1.000e+00 2.525e+01 1.350e+01 ... 1.000e+00 1.000e+00 1.000e+00]\n",
      " [2.000e+00 1.792e+01 2.050e-01 ... 1.000e+00 7.500e+02 1.000e+00]\n",
      " [2.000e+00 3.500e+01 3.375e+00 ... 1.000e+00 0.000e+00 1.000e+00]]\n"
     ]
    }
   ],
   "source": [
    "#https://blog.51cto.com/u_15072918/2580389 \n",
    "from sklearn.preprocessing import MinMaxScaler\n",
    "\n",
    "#实例化 MinMaxScaler 并使用它重新缩放 X_train 和 X_test\n",
    "scaler = MinMaxScaler(feature_range=(0, 1))\n",
    "rescaledX_train = scaler.fit_transform(X_train)\n",
    "rescaledX_test = scaler.fit_transform(X_test)\n",
    "\n",
    "print(data)\n"
   ]
  },
  {
   "cell_type": "code",
   "execution_count": 57,
   "id": "minimal-excellence",
   "metadata": {},
   "outputs": [
    {
     "data": {
      "text/plain": [
       "'\\n# 使用sklearn中的KNN算法\\n# 导入KNN算法的库\\nfrom sklearn.neighbors import KNeighborsClassifier\\n\\nmaxK=101\\nrate_set2 = []\\nfor k in range(1,maxK): #迭代K\\n    if k % 2 == 1:\\n        # 创建KNN对象，进行训练与测试\\n        kclf = KNeighborsClassifier(n_neighbors=k)\\n        # 将训练样本点数据添加至KNN算法对象进行训练\\n        kclf.fit(X_train,y_train)\\n        # 进行测试获得测试的结果\\n        result2 = kclf.score(X_test, y_test)\\n        rate_set2.append(result2)\\n\\n# print(rate_set2)\\nmax_acc2 = np.max(rate_set2)  # max value index\\nmin_acc2 = np.min(rate_set2)  # min value index\\nmean_acc2 = np.mean(rate_set2)  # mean\\nvar_acc2 = np.var(rate_set2) #var\\nprint(\\'最高准确率:\\',max_acc2, \\'最低准确率:\\', min_acc2,\\'平均准确率:\\', mean_acc2,\\'方差:\\',var_acc2)\\n\\nplt.figure()\\nplt.plot(range(1,maxK,2) , rate_set2, color=\"black\",lw=1.5)\\nplt.grid(True)\\nplt.title(\"KNN Accuracy \")\\nplt.xlabel(\"Number of K\")\\nplt.ylabel(\"Accuracy\")\\nplt.show()\\n'"
      ]
     },
     "execution_count": 57,
     "metadata": {},
     "output_type": "execute_result"
    }
   ],
   "source": [
    "\n",
    "'''\n",
    "# 使用sklearn中的KNN算法\n",
    "# 导入KNN算法的库\n",
    "from sklearn.neighbors import KNeighborsClassifier\n",
    "\n",
    "maxK=101\n",
    "rate_set2 = []\n",
    "for k in range(1,maxK): #迭代K\n",
    "    if k % 2 == 1:\n",
    "        # 创建KNN对象，进行训练与测试\n",
    "        kclf = KNeighborsClassifier(n_neighbors=k)\n",
    "        # 将训练样本点数据添加至KNN算法对象进行训练\n",
    "        kclf.fit(X_train,y_train)\n",
    "        # 进行测试获得测试的结果\n",
    "        result2 = kclf.score(X_test, y_test)\n",
    "        rate_set2.append(result2)\n",
    "\n",
    "# print(rate_set2)\n",
    "max_acc2 = np.max(rate_set2)  # max value index\n",
    "min_acc2 = np.min(rate_set2)  # min value index\n",
    "mean_acc2 = np.mean(rate_set2)  # mean\n",
    "var_acc2 = np.var(rate_set2) #var\n",
    "print('最高准确率:',max_acc2, '最低准确率:', min_acc2,'平均准确率:', mean_acc2,'方差:',var_acc2)\n",
    "\n",
    "plt.figure()\n",
    "plt.plot(range(1,maxK,2) , rate_set2, color=\"black\",lw=1.5)\n",
    "plt.grid(True)\n",
    "plt.title(\"KNN Accuracy \")\n",
    "plt.xlabel(\"Number of K\")\n",
    "plt.ylabel(\"Accuracy\")\n",
    "plt.show()\n",
    "'''"
   ]
  },
  {
   "cell_type": "code",
   "execution_count": 44,
   "id": "downtown-senator",
   "metadata": {
    "scrolled": true
   },
   "outputs": [
    {
     "name": "stdout",
     "output_type": "stream",
     "text": [
      "最高准确率: 0.7304347826086957 , k =  3 , 最低准确率: 0.6869565217391305 , k =  65 ,平均准确率: 0.704434782608696 ,方差: 0.0001614291115311912\n"
     ]
    },
    {
     "data": {
      "image/png": "[encoded data removed]",
      "text/plain": [
       "<Figure size 432x288 with 1 Axes>"
      ]
     },
     "metadata": {},
     "output_type": "display_data"
    }
   ],
   "source": [
    "y_train = [int(i) for i in y_train]\n",
    "y_test = [int(i) for i in y_test]\n",
    "\n",
    "class KNN1:\n",
    "    #初始化方法，k表示邻居的个数\n",
    "    def __init__(self, k): \n",
    "        #用当前的k来初始化KNN1对象中的k\n",
    "        self.k = k   \n",
    "\n",
    "    # X: 训练集样本，类数组类型； y：训练集标签，类数组类型\n",
    "    def fit(self, X, y):   \n",
    "        # 把X,y转化成ndarray数组类型\n",
    "        self.X = np.asarray(X)  \n",
    "        self.y = np.asarray(y)\n",
    "\n",
    "    #  根据参数传递的样本，对测试集样本进行预测。X: 训练集样本，类数组类型；\n",
    "    def predict(self,X):  \n",
    "        X = np.array(X)\n",
    "        # 储存预测的结果，数组类型 \n",
    "        result = [] \n",
    "        # 对ndarray数组进行遍历，每次取数组中的一行。\n",
    "        for x in X:\n",
    "            # 求测试集中的每个样本与训练集中所有点的距离。\n",
    "            # x代表测试集中的一行，X代表训练集中的所有行。ndarray数组可以自己广播扩展然后对位运算。\n",
    "            dis = np.sqrt(np.sum((x - self.X) ** 2,axis=1))\n",
    "            # argsort可以将数组排序后，每个元素在原数组中的索引位置。\n",
    "            index = dis.argsort()\n",
    "            # 进行截断，只取前k个元素【取距离最近的k个元素的索引】\n",
    "            index = index[:self.k]\n",
    "            # 返回数组中每个元素出现的次数。元素必须是非负的整数。\n",
    "            count = np.bincount(self.y[index])\n",
    "            #  返回ndarray数组中，值最大的元素对应的索引，该索引就是预测判定的类别。\n",
    "            result.append(count.argmax())\n",
    "        return np.asarray(result)\n",
    "\n",
    "rate_set = [] \n",
    "maxK = 101 #控制K的大小\n",
    "for k in range(1,maxK): #迭代K\n",
    "    if k % 2 == 1:   \n",
    "        knn = KNN1(k)  # 创建KNN对象     \n",
    "        knn.fit(X_train,y_train)  # 进行训练    \n",
    "        result = knn.predict(X_test) # 进行测试，获得测试的结果\n",
    "        accRate = np.sum(result == y_test)/len(result) # 计算正确率\n",
    "        rate_set.append(accRate) #添加到list\n",
    "\n",
    "# print(rate_set) \n",
    "max_acc = np.max(rate_set)  # max value index\n",
    "min_acc = np.min(rate_set)  # min value index\n",
    "mean_acc = np.mean(rate_set)  # mean\n",
    "var_acc = np.var(rate_set) #var\n",
    "# max_index = rate_set.index(max_acc) a.index(max(a)\n",
    "print('最高准确率:',max_acc,', k = ', 2* (rate_set.index(max_acc)+1) - 1, ', 最低准确率:', min_acc,', k = ', 2* (rate_set.index(min_acc)+1) - 1, ',平均准确率:', mean_acc,',方差:',var_acc)\n",
    "\n",
    "plt.figure()\n",
    "plt.plot(range(1,maxK,2), rate_set, color=\"black\",lw=1.5)\n",
    "plt.grid(True)\n",
    "plt.title(\"KNN Accuracy \")\n",
    "plt.xlabel(\"Number of K\")\n",
    "plt.ylabel(\"Accuracy\")\n",
    "plt.show()\n",
    "\n",
    "# # print(\"Your input is:\", y_test , \"and classified to class: \", result, \"It is:\",result == y_test)\n",
    "# print(\"Total:\",len(result),\", True:\",np.sum(result == y_test),\", False:\",len(result)-np.sum(result == y_test))\n",
    "# print(\"rate:\",np.sum(result == y_test)/len(result))"
   ]
  },
  {
   "cell_type": "code",
   "execution_count": null,
   "id": "useful-bacon",
   "metadata": {},
   "outputs": [],
   "source": [
    "rescaledX = scaler.transform(X)"
   ]
  },
  {
   "cell_type": "code",
   "execution_count": null,
   "id": "compact-drunk",
   "metadata": {},
   "outputs": [],
   "source": [
    "from sklearn.ensemble import RandomForestClassifier\n",
    "from sklearn.metrics import confusion_matrix\n",
    "rf = RandomForestClassifier(n_estimators=500)\n",
    "rf.fit(rescaledX_train, y_train)\n",
    "y_pred = rf.predict(rescaledX_test)\n",
    "print(\"Random Forest classifier has accuracy of: \", rf.score(rescaledX_test, y_test))\n",
    "\n",
    "# 评估confusion_matrix\n",
    "confusion_matrix(y_test, y_pred)"
   ]
  },
  {
   "cell_type": "code",
   "execution_count": null,
   "id": "favorite-accordance",
   "metadata": {},
   "outputs": [],
   "source": [
    "importances = rf.feature_importances_\n",
    "std = np.std([tree.feature_importances_ for tree in rf.estimators_],\n",
    "             axis=0)\n",
    "indices = np.argsort(importances)[::-1]\n",
    "\n",
    "# 打印特征排名\n",
    "print(\"Feature ranking:\")\n",
    "\n",
    "for f in range(X.shape[1]):\n",
    "    print(\"%d. feature %d (%f)\" % (f + 1, indices[f], importances[indices[f]]))\n",
    "\n",
    "# 绘制森林的特征重要性\n",
    "plt.figure()\n",
    "plt.title(\"Feature importances\")\n",
    "plt.bar(range(X.shape[1]), importances[indices],\n",
    "       color=\"r\", yerr=std[indices], align=\"center\")\n",
    "plt.xticks(range(X.shape[1]), indices)\n",
    "plt.xlim([-1, X.shape[1]])\n",
    "plt.show()"
   ]
  },
  {
   "cell_type": "code",
   "execution_count": null,
   "id": "arbitrary-brook",
   "metadata": {},
   "outputs": [],
   "source": [
    "#哪个属性在信用卡请求决策中发挥了最重要的作用？\n",
    "#前面已经复制过data2\n",
    "data2 = data2.drop([15], axis=1)\n",
    "\n",
    "features = data2.columns\n",
    "importances = rf.feature_importances_\n",
    "indices = np.argsort(importances)\n",
    "\n",
    "plt.title('Feature Importances')\n",
    "plt.barh(range(len(indices)), importances[indices], color='b', align='center')\n",
    "plt.yticks(range(len(indices)), [features[i] for i in indices])\n",
    "plt.xlabel('Relative Importance')\n",
    "plt.show()"
   ]
  },
  {
   "cell_type": "code",
   "execution_count": null,
   "id": "incomplete-evidence",
   "metadata": {},
   "outputs": [],
   "source": [
    "###########将逻辑回归模型拟合到训练集\n",
    "######http://localhost:8877/notebooks/2020_05_31_02_Predicting_Credit_Card_Approvals.ipynb\n",
    "# Import LogisticRegression\n",
    "from sklearn.linear_model import LogisticRegression\n",
    "\n",
    "# Instantiate a LogisticRegression classifier with default parameter values\n",
    "logreg = LogisticRegression()\n",
    "\n",
    "# Fit logreg to the train set\n",
    "logreg.fit(rescaledX_train, y_train)"
   ]
  },
  {
   "cell_type": "code",
   "execution_count": null,
   "id": "ranging-strategy",
   "metadata": {},
   "outputs": [],
   "source": [
    "# Import confusion_matrix\n",
    "from sklearn.metrics import confusion_matrix\n",
    "\n",
    "# Use logreg to predict instances from the test set and store it\n",
    "y_pred = logreg.predict(rescaledX_test)\n",
    "\n",
    "# Get the accuracy score of logreg model and print it\n",
    "print(\"Accuracy of logistic regression classifier: \", logreg.score(rescaledX_test, y_test))\n",
    "\n",
    "# Print the confusion matrix of the logreg model\n",
    "print(confusion_matrix(y_test, y_pred))"
   ]
  },
  {
   "cell_type": "code",
   "execution_count": null,
   "id": "disabled-provider",
   "metadata": {},
   "outputs": [],
   "source": [
    "# Import GridSearchCV\n",
    "from sklearn.model_selection import GridSearchCV\n",
    "\n",
    "# Define the grid of values for tol and max_iter\n",
    "tol = [0.01, 0.001, 0.0001]\n",
    "max_iter = [100, 150, 200]\n",
    "\n",
    "# Create a dictionary where tol and max_iter are keys and the lists of their values are corresponding values\n",
    "param_grid = dict(tol=tol, max_iter=max_iter)"
   ]
  },
  {
   "cell_type": "code",
   "execution_count": null,
   "id": "adjusted-console",
   "metadata": {},
   "outputs": [],
   "source": [
    "# Instantiate GridSearchCV with the required parameters\n",
    "grid_model = GridSearchCV(estimator=logreg, param_grid=param_grid, cv=5)\n",
    "\n",
    "# Use scaler to rescale X and assign it to rescaledX\n",
    "rescaledX = scaler.fit_transform(X)\n",
    "\n",
    "# Fit data to grid_model\n",
    "grid_model_result = grid_model.fit(rescaledX, y)\n",
    "\n",
    "# Summarize results\n",
    "best_score, best_params = grid_model_result.best_score_, grid_model_result.best_params_\n",
    "print(\"Best: %f using %s\" % (best_score, best_params))"
   ]
  },
  {
   "cell_type": "code",
   "execution_count": 53,
   "id": "billion-divorce",
   "metadata": {},
   "outputs": [],
   "source": [
    "#KNN-kd tree算法\n",
    "# -*- coding: utf-8 -*-l\n",
    "import random\n",
    "from copy import deepcopy\n",
    "from time import time\n",
    "import numpy as np\n",
    "from numpy.linalg import norm\n",
    "from collections import Counter\n",
    "\n",
    "Counter([0, 1, 1, 2, 2, 3, 3, 4, 3, 3]).most_common(1)\n",
    "\n",
    "\n",
    "def partition_sort(arr, k, key=lambda x: x):\n",
    "    \"\"\"\n",
    "    以枢纽(位置k)为中心将数组划分为两部分, 枢纽左侧的元素不大于枢纽右侧的元素\n",
    "\n",
    "    :param arr: 待划分数组\n",
    "    :param p: 枢纽前部元素个数\n",
    "    :param key: 比较方式\n",
    "    :return: None\n",
    "    \"\"\"\n",
    "    start, end = 0, len(arr) - 1\n",
    "    assert 0 <= k <= end\n",
    "    while True:\n",
    "        i, j, pivot = start, end, deepcopy(arr[start])\n",
    "        while i < j:\n",
    "            # 从右向左查找较小元素\n",
    "            while i < j and key(pivot) <= key(arr[j]):\n",
    "                j -= 1\n",
    "            if i == j: break\n",
    "            arr[i] = arr[j]\n",
    "            i += 1\n",
    "            # 从左向右查找较大元素\n",
    "            while i < j and key(arr[i]) <= key(pivot):\n",
    "                i += 1\n",
    "            if i == j: break\n",
    "            arr[j] = arr[i]\n",
    "            j -= 1\n",
    "        arr[i] = pivot\n",
    "\n",
    "        if i == k:\n",
    "            return\n",
    "        elif i < k:\n",
    "            start = i + 1\n",
    "        else:\n",
    "            end = i - 1\n",
    "\n",
    "\n",
    "def max_heapreplace(heap, new_node, key=lambda x: x[1]):\n",
    "    \"\"\"\n",
    "    大根堆替换堆顶元素\n",
    "\n",
    "    :param heap: 大根堆/列表\n",
    "    :param new_node: 新节点\n",
    "    :return: None\n",
    "    \"\"\"\n",
    "    heap[0] = new_node\n",
    "    root, child = 0, 1\n",
    "    end = len(heap) - 1\n",
    "    while child <= end:\n",
    "        if child < end and key(heap[child]) < key(heap[child + 1]):\n",
    "            child += 1\n",
    "        if key(heap[child]) <= key(new_node):\n",
    "            break\n",
    "        heap[root] = heap[child]\n",
    "        root, child = child, 2 * child + 1\n",
    "    heap[root] = new_node\n",
    "\n",
    "\n",
    "def max_heappush(heap, new_node, key=lambda x: x[1]):\n",
    "    \"\"\"\n",
    "    大根堆插入元素\n",
    "\n",
    "    :param heap: 大根堆/列表\n",
    "    :param new_node: 新节点\n",
    "    :return: None\n",
    "    \"\"\"\n",
    "    heap.append(new_node)\n",
    "    pos = len(heap) - 1\n",
    "    while 0 < pos:\n",
    "        parent_pos = pos - 1 >> 1\n",
    "        if key(new_node) <= key(heap[parent_pos]):\n",
    "            break\n",
    "        heap[pos] = heap[parent_pos]\n",
    "        pos = parent_pos\n",
    "    heap[pos] = new_node\n",
    "\n",
    "\n",
    "class KDNode(object):\n",
    "    \"\"\"kd树节点\"\"\"\n",
    "\n",
    "    def __init__(self, data=None, label=None, left=None, right=None, axis=None, parent=None):\n",
    "        \"\"\"\n",
    "        构造函数\n",
    "\n",
    "        :param data: 数据\n",
    "        :param label: 数据标签\n",
    "        :param left: 左孩子节点\n",
    "        :param right: 右孩子节点\n",
    "        :param axis: 分割轴\n",
    "        :param parent: 父节点\n",
    "        \"\"\"\n",
    "        self.data = data\n",
    "        self.label = label\n",
    "        self.left = left\n",
    "        self.right = right\n",
    "        self.axis = axis\n",
    "        self.parent = parent\n",
    "\n",
    "\n",
    "class KDTree(object):\n",
    "    \"\"\"kd树\"\"\"\n",
    "\n",
    "    def __init__(self, X, y=None):\n",
    "        \"\"\"\n",
    "        构造函数\n",
    "\n",
    "        :param X: 输入特征集, n_samples*n_features\n",
    "        :param y: 输入标签集, 1*n_samples\n",
    "        \"\"\"\n",
    "        self.root = None\n",
    "        self.y_valid = False if y is None else True\n",
    "        self.create(X, y)\n",
    "\n",
    "    def create(self, X, y=None):\n",
    "        \"\"\"\n",
    "        构建kd树\n",
    "\n",
    "        :param X: 输入特征集, n_samples*n_features\n",
    "        :param y: 输入标签集, 1*n_samples\n",
    "        :return: KDNode\n",
    "        \"\"\"\n",
    "\n",
    "        def create_(X, axis, parent=None):\n",
    "            \"\"\"\n",
    "            递归生成kd树\n",
    "\n",
    "            :param X: 合并标签后输入集\n",
    "            :param axis: 切分轴\n",
    "            :param parent: 父节点\n",
    "            :return: KDNode\n",
    "            \"\"\"\n",
    "            n_samples = np.shape(X)[0]\n",
    "            if n_samples == 0:\n",
    "                return None\n",
    "            mid = n_samples >> 1\n",
    "            partition_sort(X, mid, key=lambda x: x[axis])\n",
    "\n",
    "            if self.y_valid:\n",
    "                kd_node = KDNode(X[mid][:-1], X[mid][-1], axis=axis, parent=parent)\n",
    "            else:\n",
    "                kd_node = KDNode(X[mid], axis=axis, parent=parent)\n",
    "\n",
    "            next_axis = (axis + 1) % k_dimensions\n",
    "            kd_node.left = create_(X[:mid], next_axis, kd_node)\n",
    "            kd_node.right = create_(X[mid + 1:], next_axis, kd_node)\n",
    "            return kd_node\n",
    "\n",
    "        #print('building kd-tree...')\n",
    "        k_dimensions = np.shape(X)[1]\n",
    "        if y is not None:\n",
    "            X = np.hstack((np.array(X), np.array([y]).T)).tolist()\n",
    "        self.root = create_(X, 0)\n",
    "\n",
    "    def search_knn(self, point, k, dist=None):\n",
    "        \"\"\"\n",
    "        kd树中搜索k个最近邻样本\n",
    "\n",
    "        :param point: 样本点\n",
    "        :param k: 近邻数\n",
    "        :param dist: 度量方式\n",
    "        :return:\n",
    "        \"\"\"\n",
    "\n",
    "        def search_knn_(kd_node):\n",
    "            \"\"\"\n",
    "            搜索k近邻节点\n",
    "\n",
    "            :param kd_node: KDNode\n",
    "            :return: None\n",
    "            \"\"\"\n",
    "            if kd_node is None:\n",
    "                return\n",
    "            data = kd_node.data\n",
    "            distance = p_dist(data)\n",
    "            if len(heap) < k:\n",
    "                # 向大根堆中插入新元素\n",
    "                max_heappush(heap, (kd_node, distance))\n",
    "            elif distance < heap[0][1]:\n",
    "                # 替换大根堆堆顶元素\n",
    "                max_heapreplace(heap, (kd_node, distance))\n",
    "\n",
    "            axis = kd_node.axis\n",
    "            if abs(point[axis] - data[axis]) < heap[0][1] or len(heap) < k:\n",
    "                # 当前最小超球体与分割超平面相交或堆中元素少于k个\n",
    "                search_knn_(kd_node.left)\n",
    "                search_knn_(kd_node.right)\n",
    "            elif point[axis] < data[axis]:\n",
    "                search_knn_(kd_node.left)\n",
    "            else:\n",
    "                search_knn_(kd_node.right)\n",
    "\n",
    "        if self.root is None:\n",
    "            raise Exception('kd-tree must be not null.')\n",
    "        if k < 1:\n",
    "            raise ValueError(\"k must be greater than 0.\")\n",
    "\n",
    "        # 默认使用2范数度量距离\n",
    "        if dist is None:\n",
    "            p_dist = lambda x: norm(np.array(x) - np.array(point))\n",
    "        else:\n",
    "            p_dist = lambda x: dist(x, point)\n",
    "\n",
    "        heap = []\n",
    "        search_knn_(self.root)\n",
    "        return sorted(heap, key=lambda x: x[1])\n",
    "\n",
    "    def search_nn(self, point, dist=None):\n",
    "        \"\"\"\n",
    "        搜索point在样本集中的最近邻\n",
    "\n",
    "        :param point:\n",
    "        :param dist:\n",
    "        :return:\n",
    "        \"\"\"\n",
    "        return self.search_knn(point, 1, dist)[0]\n",
    "\n",
    "    def pre_order(self, root=KDNode()):\n",
    "        \"\"\"先序遍历\"\"\"\n",
    "        if root is None:\n",
    "            return\n",
    "        elif root.data is None:\n",
    "            root = self.root\n",
    "\n",
    "        yield root\n",
    "        for x in self.pre_order(root.left):\n",
    "            yield x\n",
    "        for x in self.pre_order(root.right):\n",
    "            yield x\n",
    "\n",
    "    def lev_order(self, root=KDNode(), queue=None):\n",
    "        \"\"\"层次遍历\"\"\"\n",
    "        if root is None:\n",
    "            return\n",
    "        elif root.data is None:\n",
    "            root = self.root\n",
    "\n",
    "        if queue is None:\n",
    "            queue = []\n",
    "\n",
    "        yield root\n",
    "        if root.left:\n",
    "            queue.append(root.left)\n",
    "        if root.right:\n",
    "            queue.append(root.right)\n",
    "        if queue:\n",
    "            for x in self.lev_order(queue.pop(0), queue):\n",
    "                yield x\n",
    "\n",
    "    @classmethod\n",
    "    def height(cls, root):\n",
    "        \"\"\"kd-tree深度\"\"\"\n",
    "        if root is None:\n",
    "            return 0\n",
    "        else:\n",
    "            return max(cls.height(root.left), cls.height(root.right)) + 1\n",
    "\n",
    "\n",
    "class KNeighborsClassifier(object):\n",
    "    \"\"\"K近邻分类器\"\"\"\n",
    "\n",
    "    def __init__(self, k, dist=None):\n",
    "        \"\"\"构造函数\"\"\"\n",
    "        self.k = k\n",
    "        self.dist = dist\n",
    "        self.kd_tree = None\n",
    "\n",
    "    def fit(self, X, y):\n",
    "        \"\"\"建立kd树\"\"\"\n",
    "        #print('fitting...')\n",
    "        X = self._data_processing(X)\n",
    "        self.kd_tree = KDTree(X, y)\n",
    "\n",
    "    def predict(self, X):\n",
    "        \"\"\"预测类别\"\"\"\n",
    "        if self.kd_tree is None:\n",
    "            raise TypeError('Classifier must be fitted before predict!')\n",
    "        search_knn = lambda x: self.kd_tree.search_knn(point=x, k=self.k, dist=self.dist)\n",
    "        y_ptd = []\n",
    "        X = (X - self.x_min) / (self.x_max - self.x_min)\n",
    "        for x in X:\n",
    "            y = Counter(r[0].label for r in search_knn(x)).most_common(1)[0][0]\n",
    "            y_ptd.append(y)\n",
    "        return y_ptd\n",
    "\n",
    "    def score(self, X, y):\n",
    "        \"\"\"预测正确率\"\"\"\n",
    "        y_ptd = self.predict(X)\n",
    "        correct_nums = len(np.where(np.array(y_ptd) == np.array(y))[0])\n",
    "        return correct_nums / len(y)\n",
    "\n",
    "    def _data_processing(self, X):\n",
    "        \"\"\"数据归一化\"\"\"\n",
    "        X = np.array(X)\n",
    "        self.x_min = np.min(X, axis=0)\n",
    "        self.x_max = np.max(X, axis=0)\n",
    "        X = (X - self.x_min) / (self.x_max - self.x_min)\n",
    "        return X\n"
   ]
  },
  {
   "cell_type": "code",
   "execution_count": 56,
   "id": "eastern-sigma",
   "metadata": {},
   "outputs": [
    {
     "name": "stdout",
     "output_type": "stream",
     "text": [
      "最高准确率: 0.8739130434782608 , k =  7 , 最低准确率: 0.808695652173913 , k =  1 ,平均准确率: 0.8397391304347827 ,方差: 0.000102591052299937\n"
     ]
    },
    {
     "data": {
      "image/png": "[encoded data removed]",
      "text/plain": [
       "<Figure size 432x288 with 1 Axes>"
      ]
     },
     "metadata": {},
     "output_type": "display_data"
    }
   ],
   "source": [
    "rate_set_kd = []\n",
    "maxK = 301\n",
    "for k in range(1,maxK): #迭代K\n",
    "    if k % 2 == 1:\n",
    "        # 创建KNN对象，进行训练与测试\n",
    "        knc = KNeighborsClassifier(k)\n",
    "        # 进行训练\n",
    "        knc.fit(X_train, y_train)\n",
    "        result_kd = knc.score(X_test, y_test)\n",
    "        # 进行测试获得测试的结果\n",
    "        rate_set_kd.append(result_kd)\n",
    "\n",
    "# print(rate_set) \n",
    "max_acc_kd = np.max(rate_set_kd)  # max value index\n",
    "min_acc_kd = np.min(rate_set_kd)  # min value index\n",
    "mean_acc_kd = np.mean(rate_set_kd)  # mean\n",
    "var_acc_kd = np.var(rate_set_kd) #var\n",
    "print('最高准确率:',max_acc_kd,', k = ', 2* (rate_set_kd.index(max_acc_kd)+1) - 1, ', 最低准确率:', min_acc_kd,', k = ', 2* (rate_set_kd.index(min_acc_kd)+1) - 1, ',平均准确率:', mean_acc_kd,',方差:',var_acc_kd)\n",
    "\n",
    "plt.figure()\n",
    "plt.plot(range(1,maxK,2), rate_set_kd, color=\"black\",lw=1.5)\n",
    "plt.grid(True)\n",
    "plt.title(\"KNN Accuracy \")\n",
    "plt.xlabel(\"Number of K\")\n",
    "plt.ylabel(\"Accuracy\")\n",
    "plt.show()\n"
   ]
  },
  {
   "cell_type": "code",
   "execution_count": null,
   "id": "divine-pregnancy",
   "metadata": {},
   "outputs": [],
   "source": []
  }
 ],
 "metadata": {
  "kernelspec": {
   "display_name": "Python 3",
   "language": "python",
   "name": "python3"
  },
  "language_info": {
   "codemirror_mode": {
    "name": "ipython",
    "version": 3
   },
   "file_extension": ".py",
   "mimetype": "text/x-python",
   "name": "python",
   "nbconvert_exporter": "python",
   "pygments_lexer": "ipython3",
   "version": "3.6.13"
  }
 },
 "nbformat": 4,
 "nbformat_minor": 5
}
